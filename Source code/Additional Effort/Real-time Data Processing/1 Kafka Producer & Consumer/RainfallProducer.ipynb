{
 "cells": [
  {
   "cell_type": "code",
   "execution_count": 1,
   "metadata": {},
   "outputs": [
    {
     "name": "stdout",
     "output_type": "stream",
     "text": [
      "Message sent\n",
      "Message sent\n",
      "Message sent\n",
      "Message sent\n",
      "Message sent\n",
      "Message sent\n"
     ]
    },
    {
     "ename": "KeyboardInterrupt",
     "evalue": "",
     "output_type": "error",
     "traceback": [
      "\u001b[1;31m---------------------------------------------------------------------------\u001b[0m",
      "\u001b[1;31mKeyboardInterrupt\u001b[0m                         Traceback (most recent call last)",
      "Cell \u001b[1;32mIn[1], line 22\u001b[0m\n\u001b[0;32m     19\u001b[0m \u001b[38;5;28mprint\u001b[39m(\u001b[38;5;124m\"\u001b[39m\u001b[38;5;124mMessage sent\u001b[39m\u001b[38;5;124m\"\u001b[39m)\n\u001b[0;32m     20\u001b[0m producer\u001b[38;5;241m.\u001b[39mflush()\n\u001b[1;32m---> 22\u001b[0m time\u001b[38;5;241m.\u001b[39msleep(\u001b[38;5;241m30\u001b[39m)\n",
      "\u001b[1;31mKeyboardInterrupt\u001b[0m: "
     ]
    }
   ],
   "source": [
    "from kafka import KafkaProducer\n",
    "import json\n",
    "import requests\n",
    "import time\n",
    "\n",
    "topicName ='Rainfall'\n",
    "bootstrap_servers = ['localhost:29092']\n",
    "\n",
    "api_url = \"https://api.data.gov.sg/v1/environment/rainfall\"\n",
    "\n",
    "producer = KafkaProducer(bootstrap_servers=bootstrap_servers,\n",
    "                         value_serializer=lambda v: json.dumps(v).encode('utf-8'))\n",
    "\n",
    "while True:\n",
    "    response = response = requests.get(api_url, headers={'accept': 'application/json'})\n",
    "    data = response.json()\n",
    "\n",
    "    producer.send(topicName, data)\n",
    "    print(\"Message sent\")\n",
    "    producer.flush()\n",
    "    \n",
    "    time.sleep(30)  # 每5分钟获取一次数据\n"
   ]
  }
 ],
 "metadata": {
  "kernelspec": {
   "display_name": "base",
   "language": "python",
   "name": "python3"
  },
  "language_info": {
   "codemirror_mode": {
    "name": "ipython",
    "version": 3
   },
   "file_extension": ".py",
   "mimetype": "text/x-python",
   "name": "python",
   "nbconvert_exporter": "python",
   "pygments_lexer": "ipython3",
   "version": "3.11.7"
  }
 },
 "nbformat": 4,
 "nbformat_minor": 2
}
