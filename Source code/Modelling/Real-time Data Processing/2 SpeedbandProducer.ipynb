{
 "cells": [
  {
   "cell_type": "code",
   "execution_count": 1,
   "metadata": {},
   "outputs": [],
   "source": [
    "import requests\n",
    "import pytz\n",
    "import time\n",
    "import json\n",
    "from datetime import datetime, timedelta\n",
    "from kafka import KafkaProducer"
   ]
  },
  {
   "cell_type": "code",
   "execution_count": 3,
   "metadata": {},
   "outputs": [],
   "source": [
    "topicName ='Speedband'\n",
    "bootstrap_servers = ['localhost:9092']\n",
    "\n",
    "# Singapore time zone\n",
    "sgt = pytz.timezone('Asia/Singapore')\n",
    "\n",
    "# URL and headers\n",
    "url = \"http://datamall2.mytransport.sg/ltaodataservice/v3/TrafficSpeedBands\"\n",
    "headers = {\n",
    "  'AccountKey': 'TdT4Q/DhRjC9n4ZkUHrYww=='\n",
    "}\n",
    "\n",
    "# Kafka producer\n",
    "producer = KafkaProducer(bootstrap_servers=bootstrap_servers,\n",
    "                         value_serializer=lambda v: json.dumps(v).encode('utf-8'))\n",
    "\n",
    "def fetch_data(skip):\n",
    "    response = requests.get(f\"{url}?$skip={skip}\", headers=headers)\n",
    "    if response.status_code == 200:\n",
    "        data = response.json()\n",
    "        return data\n",
    "    else:\n",
    "        print(f\"Error: {response.status_code}, {response.text}\")\n",
    "        return None\n",
    "\n",
    "def fetch_real_time_data():\n",
    "    all_data = []\n",
    "    skip = 0\n",
    "    while True:\n",
    "        data = fetch_data(skip)\n",
    "        if data:\n",
    "            all_data.extend(data['value'])\n",
    "            if len(data['value']) < 500:\n",
    "                break\n",
    "            else:\n",
    "                skip += 500\n",
    "        else:\n",
    "            break\n",
    "    return all_data"
   ]
  },
  {
   "cell_type": "code",
   "execution_count": 4,
   "metadata": {},
   "outputs": [
    {
     "name": "stdout",
     "output_type": "stream",
     "text": [
      "Message sent\n",
      "Message sent\n",
      "Message sent\n",
      "Message sent\n",
      "Message sent\n",
      "Message sent\n",
      "Message sent\n",
      "Message sent\n",
      "Message sent\n",
      "Message sent\n",
      "Message sent\n",
      "Message sent\n",
      "Message sent\n",
      "Message sent\n",
      "Message sent\n",
      "Message sent\n",
      "Message sent\n",
      "Message sent\n",
      "Message sent\n",
      "Message sent\n",
      "Message sent\n",
      "Message sent\n",
      "Message sent\n",
      "Message sent\n",
      "Message sent\n",
      "Message sent\n",
      "Message sent\n",
      "Message sent\n"
     ]
    },
    {
     "ename": "KeyboardInterrupt",
     "evalue": "",
     "output_type": "error",
     "traceback": [
      "\u001b[1;31m---------------------------------------------------------------------------\u001b[0m",
      "\u001b[1;31mKeyboardInterrupt\u001b[0m                         Traceback (most recent call last)",
      "Cell \u001b[1;32mIn[4], line 35\u001b[0m\n\u001b[0;32m     32\u001b[0m     \u001b[38;5;28mprint\u001b[39m(\u001b[38;5;124m\"\u001b[39m\u001b[38;5;124mMessage sent\u001b[39m\u001b[38;5;124m\"\u001b[39m)\n\u001b[0;32m     33\u001b[0m     producer\u001b[38;5;241m.\u001b[39mflush()\n\u001b[1;32m---> 35\u001b[0m time\u001b[38;5;241m.\u001b[39msleep(\u001b[38;5;241m3\u001b[39m)\n",
      "\u001b[1;31mKeyboardInterrupt\u001b[0m: "
     ]
    }
   ],
   "source": [
    "while True:\n",
    "    current_time = datetime.now(sgt)\n",
    "    next_hour = (current_time + timedelta(hours=1)).replace(minute=0, second=0, microsecond=0)\n",
    "    \n",
    "    print(\"当前时间：\", current_time)\n",
    "    \n",
    "    all_data = fetch_real_time_data()\n",
    "\n",
    "    if all_data:\n",
    "        all_data_with_datehour = []\n",
    "        for item in all_data:\n",
    "            item['datehour'] = current_time.strftime(\"%Y-%m-%d %H\")\n",
    "            all_data_with_datehour.append(item)\n",
    "\n",
    "        producer.send(topicName, all_data_with_datehour)\n",
    "        print(\"Message sent\")\n",
    "        producer.flush()\n",
    "\n",
    "    # Calculate sleep time until next whole hour\n",
    "    sleep_time = (next_hour - datetime.now(sgt)).total_seconds()\n",
    "\n",
    "    # Sleep until next whole hour\n",
    "    time.sleep(sleep_time)"
   ]
  }
 ],
 "metadata": {
  "kernelspec": {
   "display_name": "base",
   "language": "python",
   "name": "python3"
  },
  "language_info": {
   "codemirror_mode": {
    "name": "ipython",
    "version": 3
   },
   "file_extension": ".py",
   "mimetype": "text/x-python",
   "name": "python",
   "nbconvert_exporter": "python",
   "pygments_lexer": "ipython3",
   "version": "3.11.7"
  }
 },
 "nbformat": 4,
 "nbformat_minor": 2
}
